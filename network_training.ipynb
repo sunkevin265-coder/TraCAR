{
  "nbformat": 4,
  "nbformat_minor": 0,
  "metadata": {
    "colab": {
      "name": "KLmainV2.ipynb",
      "provenance": [],
      "collapsed_sections": []
    },
    "kernelspec": {
      "name": "python3",
      "display_name": "Python 3"
    },
    "accelerator": "GPU"
  },
  "cells": [
    {
      "cell_type": "code",
      "metadata": {
        "id": "ciHBUJxcMY5I",
        "colab_type": "code",
        "colab": {}
      },
      "source": [
        "from google.colab import drive\n",
        "drive.mount('/content/drive', force_remount=True)"
      ],
      "execution_count": 0,
      "outputs": []
    },
    {
      "cell_type": "code",
      "metadata": {
        "id": "E-T1p0ypC2YI",
        "colab_type": "code",
        "colab": {}
      },
      "source": [
        "import time\n",
        "import pytz\n",
        "from datetime import datetime, timezone"
      ],
      "execution_count": 0,
      "outputs": []
    },
    {
      "cell_type": "code",
      "metadata": {
        "id": "wLLNKFSpSD8_",
        "colab_type": "code",
        "colab": {}
      },
      "source": [
        " %cd \"/content/drive/My Drive/TraCAR/darknet2\""
      ],
      "execution_count": 0,
      "outputs": []
    },
    {
      "cell_type": "code",
      "metadata": {
        "id": "xphexGrZKO8o",
        "colab_type": "code",
        "colab": {}
      },
      "source": [
        "!make"
      ],
      "execution_count": 0,
      "outputs": []
    },
    {
      "cell_type": "code",
      "metadata": {
        "id": "ced7PpjkHoxQ",
        "colab_type": "code",
        "colab": {}
      },
      "source": [
        "### changing execute permissions for \"darknet\"\n",
        "!chmod u+x darknet"
      ],
      "execution_count": 0,
      "outputs": []
    },
    {
      "cell_type": "code",
      "metadata": {
        "id": "QnlQeEIZK1lX",
        "colab_type": "code",
        "colab": {}
      },
      "source": [
        "### checking darknet installations\n",
        "!./darknet "
      ],
      "execution_count": 0,
      "outputs": []
    },
    {
      "cell_type": "markdown",
      "metadata": {
        "id": "sg0rb44y4qFL",
        "colab_type": "text"
      },
      "source": [
        "# Reduce number of params, then pretrain on VOC2007"
      ]
    },
    {
      "cell_type": "markdown",
      "metadata": {
        "id": "8ZHLsPe8Cpm7",
        "colab_type": "text"
      },
      "source": [
        "# Pretraining on VOC2007"
      ]
    },
    {
      "cell_type": "code",
      "metadata": {
        "id": "I8rFtMvICn9N",
        "colab_type": "code",
        "colab": {}
      },
      "source": [
        "%mkdir /content/VOC\n",
        "%cp \"/content/drive/My Drive/TraCAR/datasets/VOC/train.txt\" /content/VOC/train.txt\n",
        "%cp \"/content/drive/My Drive/TraCAR/datasets/VOC/2007_test.txt\" /content/VOC/2007_test.txt\n",
        "%cp \"/content/drive/My Drive/TraCAR/datasets/VOC/2007_test.txt\" /content/VOC/2007_val.txt\n",
        "!chmod u+x /content/VOC/train.txt\n",
        "!chmod u+x /content/VOC/2007_test.txt\n",
        "!chmod u+x /content/VOC/2007_val.txt"
      ],
      "execution_count": 0,
      "outputs": []
    },
    {
      "cell_type": "code",
      "metadata": {
        "id": "MldhGYymCw3t",
        "colab_type": "code",
        "colab": {}
      },
      "source": [
        "utc_dt = datetime.now(timezone.utc)\n",
        "PST = pytz.timezone('US/Pacific')\n",
        "print(\"\\nPacific time {}\\n\".format(utc_dt.astimezone(PST).isoformat()))\n",
        "\n",
        "start_time = time.time()\n",
        "!./darknet detector train cfg/KLvoc.data cfg/KLyolov2-tiny-voc.cfg yolov2-tiny-voc.weights -clear 1 #not sure if need weights here\n",
        "\n",
        "print((time.time() - start_time)/60, ' minutes elapsed' )\n",
        "utc_dt = datetime.now(timezone.utc)\n",
        "PST = pytz.timezone('US/Pacific')\n",
        "print(\"\\nPacific time {}\\n\".format(utc_dt.astimezone(PST).isoformat()))"
      ],
      "execution_count": 0,
      "outputs": []
    },
    {
      "cell_type": "markdown",
      "metadata": {
        "id": "IzT7dxk_sbxf",
        "colab_type": "text"
      },
      "source": [
        "# Test on VOC2007"
      ]
    },
    {
      "cell_type": "code",
      "metadata": {
        "id": "AvJUHXDwDio9",
        "colab_type": "code",
        "colab": {}
      },
      "source": [
        "# !./darknet detect cfg/yolov2-tiny-voc.cfg yolov2-tiny-voc.weights data/kite.jpg\n",
        "!./darknet detect cfg/yolov2-tiny-voc.cfg yolov2-tiny-voc.weights ../datasets/VOC/VOCdevkit/VOC2007/JPEGImages/009962.jpg"
      ],
      "execution_count": 0,
      "outputs": []
    },
    {
      "cell_type": "markdown",
      "metadata": {
        "id": "7IEGHonP4-1K",
        "colab_type": "text"
      },
      "source": [
        "# Test on UFPR"
      ]
    },
    {
      "cell_type": "code",
      "metadata": {
        "id": "d9JnK71QtUfM",
        "colab_type": "code",
        "colab": {}
      },
      "source": [
        "# !./darknet detect cfg/KLyolov2-tiny-UFPR.cfg yolov2-tiny-voc.weights ../datasets/UFPR-ALPR/testing/track0094/track0094\\[01\\].png \n",
        "!./darknet detect cfg/yolov2-tiny-voc.cfg yolov2-tiny-voc.weights ../datasets/UFPR-ALPR/testing/track0094/track0094\\[01\\].png "
      ],
      "execution_count": 0,
      "outputs": []
    },
    {
      "cell_type": "markdown",
      "metadata": {
        "id": "9FvQ5XFN8HNX",
        "colab_type": "text"
      },
      "source": [
        "# Finetuning on UFPR-ALPR\n"
      ]
    },
    {
      "cell_type": "code",
      "metadata": {
        "id": "VMkmcbne8YJM",
        "colab_type": "code",
        "colab": {}
      },
      "source": [
        "%mkdir /content/UFPR\n",
        "%cp \"/content/drive/My Drive/TraCAR/datasets/UFPR-ALPR/training.txt\" /content/UFPR/training.txt\n",
        "%cp \"/content/drive/My Drive/TraCAR/datasets/UFPR-ALPR/testing.txt\" /content/UFPR/testing.txt\n",
        "%cp \"/content/drive/My Drive/TraCAR/datasets/UFPR-ALPR/validation.txt\" /content/UFPR/validation.txt\n",
        "!chmod u+x /content/UFPR/training.txt\n",
        "!chmod u+x /content/UFPR/testing.txt\n",
        "!chmod u+x /content/UFPR/validation.txt\n"
      ],
      "execution_count": 0,
      "outputs": []
    },
    {
      "cell_type": "code",
      "metadata": {
        "id": "7lHjAG_DPOdv",
        "colab_type": "code",
        "colab": {}
      },
      "source": [
        "log_path = \"/content/drive/My Drive/TraCAR/darknet2/KLbackup/UFPR/v13/log.txt\"\n",
        "\n",
        "utc_dt = datetime.now(timezone.utc)\n",
        "PST = pytz.timezone('US/Pacific')\n",
        "print(\"\\nPacific time {}\\n\".format(utc_dt.astimezone(PST).isoformat()))\n",
        "\n",
        "start_time = time.time()\n",
        "# !./darknet detector train cfg/KLUFPR-ALPR.data cfg/KLyolov2-tiny-UFPR.cfg yolov2-tiny-voc.weights -clear 1\n",
        "!./darknet detector train cfg/KLUFPR-ALPR.data cfg/KLyolov2-tiny-UFPR.cfg > \"$log_path\"\n",
        "# %mv log.txt $log_path\n",
        "\n",
        "print((time.time() - start_time)/60, ' minutes elapsed' )\n",
        "\n",
        "utc_dt = datetime.now(timezone.utc)\n",
        "PST = pytz.timezone('US/Pacific')\n",
        "print(\"\\nPacific time {}\\n\".format(utc_dt.astimezone(PST).isoformat()))"
      ],
      "execution_count": 0,
      "outputs": []
    },
    {
      "cell_type": "markdown",
      "metadata": {
        "id": "Hx-qiBxet2qn",
        "colab_type": "text"
      },
      "source": [
        "# Visualize loss curve"
      ]
    },
    {
      "cell_type": "code",
      "metadata": {
        "id": "8ToNX_4kt2T1",
        "colab_type": "code",
        "colab": {}
      },
      "source": [
        "import matplotlib.pyplot as plt\n",
        "\n",
        "def visualize_loss(log_path):\n",
        "  file1 = open(log_path, 'r') \n",
        "  Lines = file1.readlines() \n",
        "  loss = []\n",
        "  for line in Lines:\n",
        "    line_fields = line.split(' ')\n",
        "    try:\n",
        "      loss_index_inc = line_fields.index('avg,')\n",
        "      loss_val = float(line_fields[loss_index_inc - 1])\n",
        "      loss.append(loss_val)\n",
        "    except:\n",
        "      pass \n",
        "  plt.plot(loss)\n",
        "  plt.xlabel('Epoch')\n",
        "  plt.ylabel('Loss')\n",
        "  plt.ylim((0,15))\n",
        "\n",
        "\n",
        "visualize_loss(log_path)"
      ],
      "execution_count": 0,
      "outputs": []
    },
    {
      "cell_type": "markdown",
      "metadata": {
        "id": "2MpPFTaK5Mq6",
        "colab_type": "text"
      },
      "source": [
        "# Test new model on UFPR"
      ]
    },
    {
      "cell_type": "code",
      "metadata": {
        "id": "XsFjRqgorIYL",
        "colab_type": "code",
        "colab": {}
      },
      "source": [
        "# make sure model directory is correct\n",
        "# !./darknet detect cfg/KLyolov2-tiny-UFPR.cfg KLbackup/UFPR/v12/KLyolov2-tiny-UFPR_14000.weights ../datasets/UFPR-ALPR/training/track0006/track0006\\[01\\].png \n",
        "!./darknet detect \"KLbackup/UFPR/v9/Copy of KLyolov2-tiny-UFPR.cfg\" KLbackup/UFPR/v9/KLyolov2-tiny-UFPR_12000.weights ../datasets/UFPR-ALPR/training/track0006/track0006\\[01\\].png\n",
        "# !./darknet detect cfg/KLyolov2-tiny-UFPR.cfg KLbackup/UFPR/v9/KLyolov2-tiny-UFPR_12000 .weights data/tracktest.png"
      ],
      "execution_count": 0,
      "outputs": []
    }
  ]
}