{
  "nbformat": 4,
  "nbformat_minor": 0,
  "metadata": {
    "colab": {
      "name": "generate_training_labels.ipynb",
      "provenance": [],
      "collapsed_sections": []
    },
    "kernelspec": {
      "name": "python3",
      "display_name": "Python 3"
    }
  },
  "cells": [
    {
      "cell_type": "markdown",
      "metadata": {
        "id": "RXvQk2Lc7rdz",
        "colab_type": "text"
      },
      "source": [
        "Use this notebook to create the labels and the path files for training.txt, validation.txt, and testing.txt"
      ]
    },
    {
      "cell_type": "code",
      "metadata": {
        "id": "W0KNVdRGiEfe",
        "colab_type": "code",
        "colab": {}
      },
      "source": [
        "from google.colab import drive\n",
        "drive.mount('/content/drive', force_remount=True)"
      ],
      "execution_count": 0,
      "outputs": []
    },
    {
      "cell_type": "code",
      "metadata": {
        "id": "iMkhhiySkdGK",
        "colab_type": "code",
        "colab": {}
      },
      "source": [
        "import os\n",
        "import sys\n",
        "import time"
      ],
      "execution_count": 0,
      "outputs": []
    },
    {
      "cell_type": "code",
      "metadata": {
        "id": "BNy1c-TfkDPE",
        "colab_type": "code",
        "colab": {}
      },
      "source": [
        "%cd \"/content/drive/My Drive/TraCAR/datasets/UFPR-ALPR\""
      ],
      "execution_count": 0,
      "outputs": []
    },
    {
      "cell_type": "code",
      "metadata": {
        "id": "77Cr6Jj_kQ_T",
        "colab_type": "code",
        "colab": {}
      },
      "source": [
        "start_time = time.time()\n",
        "count = 0\n",
        "num_images = 0\n",
        "write_big_txt = False\n",
        "# start_count = 0\n",
        "\n",
        "rootdir = %pwd\n",
        "images_symdir = os.path.join(rootdir, 'images')\n",
        "\n",
        "if write_big_txt:\n",
        "  f = open(\"training.txt\", 'w')\n",
        "  f.close()\n",
        "  f = open(\"testing.txt\", 'w')\n",
        "  f.close()\n",
        "  f = open(\"validation.txt\", 'w')\n",
        "  f.close()\n",
        "\n",
        "prev_mode = ''\n",
        "mode = ''\n",
        "for subdir, dirs, files in os.walk(rootdir):\n",
        "  prev_mode = mode\n",
        "  mode = subdir.split('/')[-2]\n",
        "  if( mode == \"testing\" or mode == \"training\" or mode == \"validation\"):\n",
        "    if mode != prev_mode:\n",
        "      print(subdir)\n",
        "\n",
        "    # if count < start_count:\n",
        "    #   count += 1\n",
        "    #   continue\n",
        "\n",
        "    f = open(mode + '.txt', 'a')\n",
        "    for file in files:\n",
        "      #for writing the testing, training, and validation txt files\n",
        "      if file[-1] == 'g': #.png file\n",
        "        orig_file = os.path.join(subdir, file)\n",
        "        new_file = os.path.join(images_symdir, file)\n",
        "        if not os.path.exists(new_file):\n",
        "          print('cp')\n",
        "          !cp \"$orig_file\" \"$new_file\"\n",
        "        if write_big_txt:\n",
        "          f.write(images_symdir + '/' + file + \"\\n\")\n",
        "        num_images += 1\n",
        "\n",
        "      #for writing the label files\n",
        "      if file[-1] == 't': #.txt file\n",
        "        fp = open(os.path.join(subdir, file), 'r')\n",
        "        line = fp.readline()\n",
        "        line = fp.readline()\n",
        "        bbox = line.split(\" \")[1:5]\n",
        "\n",
        "        line = fp.readline()\n",
        "        class_name = line.split(\" \")[1]\n",
        "        if class_name == \"car\\n\":\n",
        "          id = '0'\n",
        "        elif class_name == \"motorcycle\\n\":\n",
        "          id = '1'\n",
        "        else:\n",
        "          print('error in parsing class')\n",
        "          print(class_name)\n",
        "          sys.exit()\n",
        "        \n",
        "        fp.close()\n",
        "\n",
        "        bbox[-1] = bbox[-1][0:-1]\n",
        "        bbox = [int(bbox[i]) for i in range(4)]\n",
        "\n",
        "        #normalize bbox\n",
        "        w = 1920\n",
        "        h = 1080\n",
        "        bbox[0] /= w\n",
        "        bbox[1] /= h\n",
        "        bbox[2] /= w\n",
        "        bbox[3] /= h\n",
        "\n",
        "        #convert bbox to yolo format [xc1, yc1, w, h]\n",
        "        bbox[0] = (2*bbox[0]+bbox[2])/2\n",
        "        bbox[1] = (2*bbox[1]+bbox[3])/2\n",
        "\n",
        "        bbox = [str(bbox[i]) for i in range(4)]\n",
        "        \n",
        "        fq = open(os.path.join(rootdir, 'labels', file), 'w')\n",
        "        fq.write(id +' '+bbox[0]+' '+bbox[1]+' '+bbox[2]+' '+bbox[3])\n",
        "        fq.close()\n",
        "\n",
        "      count += 1\n",
        "      if count%500 == 0:\n",
        "        print('images processed out of 4501:', num_images)\n",
        "\n",
        "    f.close()\n",
        "\n",
        "print((time.time() - start_time)/60, ' minutes elapsed' )\n",
        "    "
      ],
      "execution_count": 0,
      "outputs": []
    }
  ]
}